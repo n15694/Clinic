{
 "cells": [
  {
   "cell_type": "markdown",
   "id": "24602bc6",
   "metadata": {},
   "source": [
    "# Import and EDA"
   ]
  },
  {
   "cell_type": "code",
   "execution_count": 1,
   "id": "381d1bca",
   "metadata": {},
   "outputs": [],
   "source": [
    "import pandas as pd\n",
    "import numpy as np\n",
    "import matplotlib.pyplot as plt"
   ]
  },
  {
   "cell_type": "code",
   "execution_count": 2,
   "id": "8c06db28",
   "metadata": {},
   "outputs": [],
   "source": [
    "df=pd.read_csv('clinic.csv')"
   ]
  },
  {
   "cell_type": "code",
   "execution_count": 4,
   "id": "a437386e",
   "metadata": {},
   "outputs": [
    {
     "data": {
      "text/html": [
       "<div>\n",
       "<style scoped>\n",
       "    .dataframe tbody tr th:only-of-type {\n",
       "        vertical-align: middle;\n",
       "    }\n",
       "\n",
       "    .dataframe tbody tr th {\n",
       "        vertical-align: top;\n",
       "    }\n",
       "\n",
       "    .dataframe thead th {\n",
       "        text-align: right;\n",
       "    }\n",
       "</style>\n",
       "<table border=\"1\" class=\"dataframe\">\n",
       "  <thead>\n",
       "    <tr style=\"text-align: right;\">\n",
       "      <th></th>\n",
       "      <th>Date</th>\n",
       "      <th>Medication Revenue</th>\n",
       "      <th>Lab Cost</th>\n",
       "      <th>Consultation Revenue</th>\n",
       "      <th>Doctor Type</th>\n",
       "      <th>Financial Class</th>\n",
       "      <th>Patient Type</th>\n",
       "      <th>Entry Time</th>\n",
       "      <th>Post-Consultation Time</th>\n",
       "      <th>Completion Time</th>\n",
       "      <th>Doctor</th>\n",
       "      <th>Patient ID</th>\n",
       "    </tr>\n",
       "  </thead>\n",
       "  <tbody>\n",
       "    <tr>\n",
       "      <th>0</th>\n",
       "      <td>11/4/2019 0:00</td>\n",
       "      <td>$1,183.22</td>\n",
       "      <td>$10.00</td>\n",
       "      <td>$20.17</td>\n",
       "      <td>ANCHOR</td>\n",
       "      <td>HMO</td>\n",
       "      <td>OUTPATIENT</td>\n",
       "      <td>8:35:45</td>\n",
       "      <td>9:17:54</td>\n",
       "      <td>9:29:46</td>\n",
       "      <td>DR05350C4</td>\n",
       "      <td>C10001</td>\n",
       "    </tr>\n",
       "    <tr>\n",
       "      <th>1</th>\n",
       "      <td>11/6/2019 0:00</td>\n",
       "      <td>$738.48</td>\n",
       "      <td>$-</td>\n",
       "      <td>$15.00</td>\n",
       "      <td>ANCHOR</td>\n",
       "      <td>INSURANCE</td>\n",
       "      <td>OUTPATIENT</td>\n",
       "      <td>19:19:16</td>\n",
       "      <td>21:02:36</td>\n",
       "      <td>21:24:07</td>\n",
       "      <td>DR09451Z4</td>\n",
       "      <td>C10002</td>\n",
       "    </tr>\n",
       "    <tr>\n",
       "      <th>2</th>\n",
       "      <td>11/2/2019 0:00</td>\n",
       "      <td>$660.00</td>\n",
       "      <td>$-</td>\n",
       "      <td>$21.17</td>\n",
       "      <td>ANCHOR</td>\n",
       "      <td>HMO</td>\n",
       "      <td>OUTPATIENT</td>\n",
       "      <td>10:46:52</td>\n",
       "      <td>11:56:25</td>\n",
       "      <td>12:06:28</td>\n",
       "      <td>DR17400I4</td>\n",
       "      <td>C10003</td>\n",
       "    </tr>\n",
       "    <tr>\n",
       "      <th>3</th>\n",
       "      <td>11/6/2019 0:00</td>\n",
       "      <td>$600.00</td>\n",
       "      <td>$-</td>\n",
       "      <td>$-</td>\n",
       "      <td>ANCHOR</td>\n",
       "      <td>MEDICARE</td>\n",
       "      <td>OUTPATIENT</td>\n",
       "      <td>9:38:34</td>\n",
       "      <td>10:55:50</td>\n",
       "      <td>10:58:02</td>\n",
       "      <td>DR09451Z4</td>\n",
       "      <td>C10004</td>\n",
       "    </tr>\n",
       "    <tr>\n",
       "      <th>4</th>\n",
       "      <td>11/1/2019 0:00</td>\n",
       "      <td>$591.60</td>\n",
       "      <td>$-</td>\n",
       "      <td>$12.00</td>\n",
       "      <td>ANCHOR</td>\n",
       "      <td>INSURANCE</td>\n",
       "      <td>OUTPATIENT</td>\n",
       "      <td>11:16:21</td>\n",
       "      <td>12:06:49</td>\n",
       "      <td>12:06:54</td>\n",
       "      <td>DR15154H4</td>\n",
       "      <td>C10005</td>\n",
       "    </tr>\n",
       "    <tr>\n",
       "      <th>5</th>\n",
       "      <td>11/4/2019 0:00</td>\n",
       "      <td>$586.80</td>\n",
       "      <td>$-</td>\n",
       "      <td>$13.00</td>\n",
       "      <td>LOCUM</td>\n",
       "      <td>INSURANCE</td>\n",
       "      <td>OUTPATIENT</td>\n",
       "      <td>19:22:09</td>\n",
       "      <td>20:14:03</td>\n",
       "      <td>20:15:03</td>\n",
       "      <td>DR64040I4</td>\n",
       "      <td>C10006</td>\n",
       "    </tr>\n",
       "    <tr>\n",
       "      <th>6</th>\n",
       "      <td>11/13/2019 0:00</td>\n",
       "      <td>$570.18</td>\n",
       "      <td>$92.50</td>\n",
       "      <td>$15.00</td>\n",
       "      <td>ANCHOR</td>\n",
       "      <td>INSURANCE</td>\n",
       "      <td>OUTPATIENT</td>\n",
       "      <td>9:14:45</td>\n",
       "      <td>10:51:01</td>\n",
       "      <td>10:51:33</td>\n",
       "      <td>DR15154H4</td>\n",
       "      <td>C10007</td>\n",
       "    </tr>\n",
       "    <tr>\n",
       "      <th>7</th>\n",
       "      <td>11/2/2019 0:00</td>\n",
       "      <td>$493.85</td>\n",
       "      <td>$-</td>\n",
       "      <td>$30.00</td>\n",
       "      <td>FLOATING</td>\n",
       "      <td>INSURANCE</td>\n",
       "      <td>OUTPATIENT</td>\n",
       "      <td>10:35:00</td>\n",
       "      <td>10:57:26</td>\n",
       "      <td>10:57:36</td>\n",
       "      <td>DR60065B4</td>\n",
       "      <td>C10008</td>\n",
       "    </tr>\n",
       "    <tr>\n",
       "      <th>8</th>\n",
       "      <td>11/4/2019 0:00</td>\n",
       "      <td>$470.39</td>\n",
       "      <td>$-</td>\n",
       "      <td>$35.52</td>\n",
       "      <td>ANCHOR</td>\n",
       "      <td>HMO</td>\n",
       "      <td>OUTPATIENT</td>\n",
       "      <td>8:47:59</td>\n",
       "      <td>9:59:22</td>\n",
       "      <td>9:59:29</td>\n",
       "      <td>DR15154H4</td>\n",
       "      <td>C10009</td>\n",
       "    </tr>\n",
       "    <tr>\n",
       "      <th>9</th>\n",
       "      <td>11/2/2019 0:00</td>\n",
       "      <td>$468.02</td>\n",
       "      <td>$10.00</td>\n",
       "      <td>$23.91</td>\n",
       "      <td>LOCUM</td>\n",
       "      <td>HMO</td>\n",
       "      <td>OUTPATIENT</td>\n",
       "      <td>10:01:25</td>\n",
       "      <td>10:32:38</td>\n",
       "      <td>10:35:17</td>\n",
       "      <td>DR04556Z4</td>\n",
       "      <td>C10010</td>\n",
       "    </tr>\n",
       "  </tbody>\n",
       "</table>\n",
       "</div>"
      ],
      "text/plain": [
       "              Date  Medication Revenue    Lab Cost   Consultation Revenue   \\\n",
       "0   11/4/2019 0:00           $1,183.22      $10.00                 $20.17    \n",
       "1   11/6/2019 0:00             $738.48        $-                   $15.00    \n",
       "2   11/2/2019 0:00             $660.00        $-                   $21.17    \n",
       "3   11/6/2019 0:00             $600.00        $-                     $-      \n",
       "4   11/1/2019 0:00             $591.60        $-                   $12.00    \n",
       "5   11/4/2019 0:00             $586.80        $-                   $13.00    \n",
       "6  11/13/2019 0:00             $570.18      $92.50                 $15.00    \n",
       "7   11/2/2019 0:00             $493.85        $-                   $30.00    \n",
       "8   11/4/2019 0:00             $470.39        $-                   $35.52    \n",
       "9   11/2/2019 0:00             $468.02      $10.00                 $23.91    \n",
       "\n",
       "  Doctor Type Financial Class Patient Type Entry Time Post-Consultation Time  \\\n",
       "0      ANCHOR             HMO   OUTPATIENT    8:35:45                9:17:54   \n",
       "1      ANCHOR       INSURANCE   OUTPATIENT   19:19:16               21:02:36   \n",
       "2      ANCHOR             HMO   OUTPATIENT   10:46:52               11:56:25   \n",
       "3      ANCHOR        MEDICARE   OUTPATIENT    9:38:34               10:55:50   \n",
       "4      ANCHOR       INSURANCE   OUTPATIENT   11:16:21               12:06:49   \n",
       "5       LOCUM       INSURANCE   OUTPATIENT   19:22:09               20:14:03   \n",
       "6      ANCHOR       INSURANCE   OUTPATIENT    9:14:45               10:51:01   \n",
       "7    FLOATING       INSURANCE   OUTPATIENT   10:35:00               10:57:26   \n",
       "8      ANCHOR             HMO   OUTPATIENT    8:47:59                9:59:22   \n",
       "9       LOCUM             HMO   OUTPATIENT   10:01:25               10:32:38   \n",
       "\n",
       "  Completion Time     Doctor Patient ID  \n",
       "0         9:29:46  DR05350C4     C10001  \n",
       "1        21:24:07  DR09451Z4     C10002  \n",
       "2        12:06:28  DR17400I4     C10003  \n",
       "3        10:58:02  DR09451Z4     C10004  \n",
       "4        12:06:54  DR15154H4     C10005  \n",
       "5        20:15:03  DR64040I4     C10006  \n",
       "6        10:51:33  DR15154H4     C10007  \n",
       "7        10:57:36  DR60065B4     C10008  \n",
       "8         9:59:29  DR15154H4     C10009  \n",
       "9        10:35:17  DR04556Z4     C10010  "
      ]
     },
     "execution_count": 4,
     "metadata": {},
     "output_type": "execute_result"
    }
   ],
   "source": [
    "df.head(10)"
   ]
  },
  {
   "cell_type": "code",
   "execution_count": 5,
   "id": "2aa951b0",
   "metadata": {},
   "outputs": [
    {
     "data": {
      "text/plain": [
       "Date                      object\n",
       " Medication Revenue       object\n",
       "  Lab Cost                object\n",
       " Consultation Revenue     object\n",
       "Doctor Type               object\n",
       "Financial Class           object\n",
       "Patient Type              object\n",
       "Entry Time                object\n",
       "Post-Consultation Time    object\n",
       "Completion Time           object\n",
       "Doctor                    object\n",
       "Patient ID                object\n",
       "dtype: object"
      ]
     },
     "execution_count": 5,
     "metadata": {},
     "output_type": "execute_result"
    }
   ],
   "source": [
    "df.dtypes"
   ]
  },
  {
   "cell_type": "markdown",
   "id": "8d473135",
   "metadata": {},
   "source": [
    "1.There are some spaces in columns names  \n",
    "2.All data types are object and we have to change the data types (There are dates and numerics)"
   ]
  },
  {
   "cell_type": "code",
   "execution_count": 6,
   "id": "67848b57",
   "metadata": {},
   "outputs": [
    {
     "data": {
      "text/plain": [
       "(29999, 12)"
      ]
     },
     "execution_count": 6,
     "metadata": {},
     "output_type": "execute_result"
    }
   ],
   "source": [
    "df.shape\n"
   ]
  },
  {
   "cell_type": "code",
   "execution_count": 8,
   "id": "e6346424",
   "metadata": {
    "scrolled": true
   },
   "outputs": [
    {
     "data": {
      "text/plain": [
       "Date                         13\n",
       " Medication Revenue        4280\n",
       "  Lab Cost                  200\n",
       " Consultation Revenue       241\n",
       "Doctor Type                   3\n",
       "Financial Class               5\n",
       "Patient Type                  1\n",
       "Entry Time                20629\n",
       "Post-Consultation Time    21357\n",
       "Completion Time           21385\n",
       "Doctor                      199\n",
       "Patient ID                29999\n",
       "dtype: int64"
      ]
     },
     "execution_count": 8,
     "metadata": {},
     "output_type": "execute_result"
    }
   ],
   "source": [
    "df.nunique()"
   ]
  },
  {
   "cell_type": "markdown",
   "id": "a7eaee8b",
   "metadata": {},
   "source": [
    "This data is for 13 days , 29999 patients, 199 Doctors , 5 financial class , and 3 doctor type."
   ]
  },
  {
   "cell_type": "code",
   "execution_count": 9,
   "id": "ae9398ec",
   "metadata": {},
   "outputs": [
    {
     "data": {
      "text/plain": [
       "Date                      0\n",
       " Medication Revenue       0\n",
       "  Lab Cost                0\n",
       " Consultation Revenue     0\n",
       "Doctor Type               0\n",
       "Financial Class           0\n",
       "Patient Type              0\n",
       "Entry Time                0\n",
       "Post-Consultation Time    0\n",
       "Completion Time           0\n",
       "Doctor                    0\n",
       "Patient ID                0\n",
       "dtype: int64"
      ]
     },
     "execution_count": 9,
     "metadata": {},
     "output_type": "execute_result"
    }
   ],
   "source": [
    "df.isna().sum()"
   ]
  },
  {
   "cell_type": "markdown",
   "id": "f30a2d3e",
   "metadata": {},
   "source": [
    "# Data cleaning"
   ]
  },
  {
   "cell_type": "markdown",
   "id": "4f22f363",
   "metadata": {},
   "source": [
    "Remove spaces for columns names"
   ]
  },
  {
   "cell_type": "code",
   "execution_count": 10,
   "id": "47cecd1e",
   "metadata": {},
   "outputs": [
    {
     "data": {
      "text/plain": [
       "Index(['Date', 'Medication Revenue', 'Lab Cost', 'Consultation Revenue',\n",
       "       'Doctor Type', 'Financial Class', 'Patient Type', 'Entry Time',\n",
       "       'Post-Consultation Time', 'Completion Time', 'Doctor', 'Patient ID'],\n",
       "      dtype='object')"
      ]
     },
     "execution_count": 10,
     "metadata": {},
     "output_type": "execute_result"
    }
   ],
   "source": [
    "df.columns=df.columns.str.strip()\n",
    "df.columns"
   ]
  },
  {
   "cell_type": "markdown",
   "id": "163bfa97",
   "metadata": {},
   "source": [
    "Change data types"
   ]
  },
  {
   "cell_type": "code",
   "execution_count": 11,
   "id": "925e0846",
   "metadata": {},
   "outputs": [],
   "source": [
    "df['Date']=pd.to_datetime(df['Date'])\n",
    "df['Entry Time']=pd.to_datetime(df['Entry Time'])\n",
    "df['Post-Consultation Time']=pd.to_datetime(df['Post-Consultation Time'])\n",
    "df['Completion Time']=pd.to_datetime(df['Completion Time'])"
   ]
  },
  {
   "cell_type": "code",
   "execution_count": 13,
   "id": "456cf52b",
   "metadata": {},
   "outputs": [],
   "source": [
    "def clean_text(x):\n",
    "    x = x.replace('$','')\n",
    "    x = x.replace(',','')\n",
    "    x = x.replace('-','')\n",
    "    x = x.replace(' ','')\n",
    "    x =pd.to_numeric(x)\n",
    "    return x"
   ]
  },
  {
   "cell_type": "code",
   "execution_count": 14,
   "id": "0c80b28f",
   "metadata": {},
   "outputs": [],
   "source": [
    "df['Medication Revenue']=df['Medication Revenue'].apply(clean_text) \n",
    "df['Lab Cost']=df['Lab Cost'].apply(clean_text)\n",
    "df['Consultation Revenue']=df['Consultation Revenue'].apply(clean_text)"
   ]
  },
  {
   "cell_type": "code",
   "execution_count": 15,
   "id": "af7cbb21",
   "metadata": {},
   "outputs": [
    {
     "data": {
      "text/html": [
       "<div>\n",
       "<style scoped>\n",
       "    .dataframe tbody tr th:only-of-type {\n",
       "        vertical-align: middle;\n",
       "    }\n",
       "\n",
       "    .dataframe tbody tr th {\n",
       "        vertical-align: top;\n",
       "    }\n",
       "\n",
       "    .dataframe thead th {\n",
       "        text-align: right;\n",
       "    }\n",
       "</style>\n",
       "<table border=\"1\" class=\"dataframe\">\n",
       "  <thead>\n",
       "    <tr style=\"text-align: right;\">\n",
       "      <th></th>\n",
       "      <th>Date</th>\n",
       "      <th>Medication Revenue</th>\n",
       "      <th>Lab Cost</th>\n",
       "      <th>Consultation Revenue</th>\n",
       "      <th>Doctor Type</th>\n",
       "      <th>Financial Class</th>\n",
       "      <th>Patient Type</th>\n",
       "      <th>Entry Time</th>\n",
       "      <th>Post-Consultation Time</th>\n",
       "      <th>Completion Time</th>\n",
       "      <th>Doctor</th>\n",
       "      <th>Patient ID</th>\n",
       "    </tr>\n",
       "  </thead>\n",
       "  <tbody>\n",
       "    <tr>\n",
       "      <th>0</th>\n",
       "      <td>2019-11-04</td>\n",
       "      <td>1183.22</td>\n",
       "      <td>10.0</td>\n",
       "      <td>20.17</td>\n",
       "      <td>ANCHOR</td>\n",
       "      <td>HMO</td>\n",
       "      <td>OUTPATIENT</td>\n",
       "      <td>2023-02-04 08:35:45</td>\n",
       "      <td>2023-02-04 09:17:54</td>\n",
       "      <td>2023-02-04 09:29:46</td>\n",
       "      <td>DR05350C4</td>\n",
       "      <td>C10001</td>\n",
       "    </tr>\n",
       "    <tr>\n",
       "      <th>1</th>\n",
       "      <td>2019-11-06</td>\n",
       "      <td>738.48</td>\n",
       "      <td>NaN</td>\n",
       "      <td>15.00</td>\n",
       "      <td>ANCHOR</td>\n",
       "      <td>INSURANCE</td>\n",
       "      <td>OUTPATIENT</td>\n",
       "      <td>2023-02-04 19:19:16</td>\n",
       "      <td>2023-02-04 21:02:36</td>\n",
       "      <td>2023-02-04 21:24:07</td>\n",
       "      <td>DR09451Z4</td>\n",
       "      <td>C10002</td>\n",
       "    </tr>\n",
       "    <tr>\n",
       "      <th>2</th>\n",
       "      <td>2019-11-02</td>\n",
       "      <td>660.00</td>\n",
       "      <td>NaN</td>\n",
       "      <td>21.17</td>\n",
       "      <td>ANCHOR</td>\n",
       "      <td>HMO</td>\n",
       "      <td>OUTPATIENT</td>\n",
       "      <td>2023-02-04 10:46:52</td>\n",
       "      <td>2023-02-04 11:56:25</td>\n",
       "      <td>2023-02-04 12:06:28</td>\n",
       "      <td>DR17400I4</td>\n",
       "      <td>C10003</td>\n",
       "    </tr>\n",
       "    <tr>\n",
       "      <th>3</th>\n",
       "      <td>2019-11-06</td>\n",
       "      <td>600.00</td>\n",
       "      <td>NaN</td>\n",
       "      <td>NaN</td>\n",
       "      <td>ANCHOR</td>\n",
       "      <td>MEDICARE</td>\n",
       "      <td>OUTPATIENT</td>\n",
       "      <td>2023-02-04 09:38:34</td>\n",
       "      <td>2023-02-04 10:55:50</td>\n",
       "      <td>2023-02-04 10:58:02</td>\n",
       "      <td>DR09451Z4</td>\n",
       "      <td>C10004</td>\n",
       "    </tr>\n",
       "    <tr>\n",
       "      <th>4</th>\n",
       "      <td>2019-11-01</td>\n",
       "      <td>591.60</td>\n",
       "      <td>NaN</td>\n",
       "      <td>12.00</td>\n",
       "      <td>ANCHOR</td>\n",
       "      <td>INSURANCE</td>\n",
       "      <td>OUTPATIENT</td>\n",
       "      <td>2023-02-04 11:16:21</td>\n",
       "      <td>2023-02-04 12:06:49</td>\n",
       "      <td>2023-02-04 12:06:54</td>\n",
       "      <td>DR15154H4</td>\n",
       "      <td>C10005</td>\n",
       "    </tr>\n",
       "  </tbody>\n",
       "</table>\n",
       "</div>"
      ],
      "text/plain": [
       "        Date  Medication Revenue  Lab Cost  Consultation Revenue Doctor Type  \\\n",
       "0 2019-11-04             1183.22      10.0                 20.17      ANCHOR   \n",
       "1 2019-11-06              738.48       NaN                 15.00      ANCHOR   \n",
       "2 2019-11-02              660.00       NaN                 21.17      ANCHOR   \n",
       "3 2019-11-06              600.00       NaN                   NaN      ANCHOR   \n",
       "4 2019-11-01              591.60       NaN                 12.00      ANCHOR   \n",
       "\n",
       "  Financial Class Patient Type          Entry Time Post-Consultation Time  \\\n",
       "0             HMO   OUTPATIENT 2023-02-04 08:35:45    2023-02-04 09:17:54   \n",
       "1       INSURANCE   OUTPATIENT 2023-02-04 19:19:16    2023-02-04 21:02:36   \n",
       "2             HMO   OUTPATIENT 2023-02-04 10:46:52    2023-02-04 11:56:25   \n",
       "3        MEDICARE   OUTPATIENT 2023-02-04 09:38:34    2023-02-04 10:55:50   \n",
       "4       INSURANCE   OUTPATIENT 2023-02-04 11:16:21    2023-02-04 12:06:49   \n",
       "\n",
       "      Completion Time     Doctor Patient ID  \n",
       "0 2023-02-04 09:29:46  DR05350C4     C10001  \n",
       "1 2023-02-04 21:24:07  DR09451Z4     C10002  \n",
       "2 2023-02-04 12:06:28  DR17400I4     C10003  \n",
       "3 2023-02-04 10:58:02  DR09451Z4     C10004  \n",
       "4 2023-02-04 12:06:54  DR15154H4     C10005  "
      ]
     },
     "execution_count": 15,
     "metadata": {},
     "output_type": "execute_result"
    }
   ],
   "source": [
    "df.head()"
   ]
  },
  {
   "cell_type": "code",
   "execution_count": 16,
   "id": "32d70d2d",
   "metadata": {},
   "outputs": [],
   "source": [
    "df=df.fillna(0)"
   ]
  },
  {
   "cell_type": "markdown",
   "id": "d585e147",
   "metadata": {},
   "source": [
    "Add a column to the total revenue"
   ]
  },
  {
   "cell_type": "code",
   "execution_count": 17,
   "id": "e59fa4ea",
   "metadata": {},
   "outputs": [],
   "source": [
    "df['Total Revenue']=df['Medication Revenue']+df['Lab Cost']+df['Consultation Revenue']"
   ]
  },
  {
   "cell_type": "markdown",
   "id": "1c501a8a",
   "metadata": {},
   "source": [
    "Here I will split the hour of entry from the date"
   ]
  },
  {
   "cell_type": "code",
   "execution_count": 18,
   "id": "c6ef20aa",
   "metadata": {},
   "outputs": [],
   "source": [
    "df['Entry hour']=df['Entry Time'].dt.hour"
   ]
  },
  {
   "cell_type": "markdown",
   "id": "7b6503e5",
   "metadata": {},
   "source": [
    "# Which hour has the highest number of visits?"
   ]
  },
  {
   "cell_type": "code",
   "execution_count": 19,
   "id": "56cde5c9",
   "metadata": {},
   "outputs": [
    {
     "data": {
      "text/plain": [
       "Entry hour\n",
       "9     4297\n",
       "10    3680\n",
       "8     3489\n",
       "11    3306\n",
       "14    3030\n",
       "18    2600\n",
       "19    2269\n",
       "15    1847\n",
       "12    1446\n",
       "20    1358\n",
       "16    1249\n",
       "21     500\n",
       "13     426\n",
       "22     238\n",
       "17     219\n",
       "23      33\n",
       "7       12\n",
       "Name: Patient ID, dtype: int64"
      ]
     },
     "execution_count": 19,
     "metadata": {},
     "output_type": "execute_result"
    }
   ],
   "source": [
    "df.groupby(['Entry hour'])['Patient ID'].count().sort_values(ascending=False)"
   ]
  },
  {
   "cell_type": "code",
   "execution_count": 21,
   "id": "535e4bf7",
   "metadata": {
    "scrolled": true
   },
   "outputs": [
    {
     "data": {
      "text/plain": [
       "<AxesSubplot:xlabel='Entry hour'>"
      ]
     },
     "execution_count": 21,
     "metadata": {},
     "output_type": "execute_result"
    },
    {
     "data": {
      "image/png": "[encoded data removed]",
      "text/plain": [
       "<Figure size 640x480 with 1 Axes>"
      ]
     },
     "metadata": {},
     "output_type": "display_data"
    }
   ],
   "source": [
    "df.groupby(['Entry hour'])['Patient ID'].count().plot()"
   ]
  },
  {
   "cell_type": "markdown",
   "id": "c10dbed8",
   "metadata": {},
   "source": [
    "# Which doctors have the highest visits?"
   ]
  },
  {
   "cell_type": "code",
   "execution_count": 22,
   "id": "261f154b",
   "metadata": {},
   "outputs": [
    {
     "data": {
      "text/plain": [
       "Doctor\n",
       "DR15416D4    679\n",
       "DR08910I4    669\n",
       "DR09429C4    651\n",
       "DR09451Z4    644\n",
       "DR05350C4    611\n",
       "            ... \n",
       "DR07072F4     10\n",
       "DR18264H4      7\n",
       "DR64010G4      6\n",
       "DR15533J4      5\n",
       "DR14993D4      3\n",
       "Name: Patient ID, Length: 199, dtype: int64"
      ]
     },
     "execution_count": 22,
     "metadata": {},
     "output_type": "execute_result"
    }
   ],
   "source": [
    "df.groupby(['Doctor'])['Patient ID'].count().sort_values(ascending=False)"
   ]
  },
  {
   "cell_type": "code",
   "execution_count": 24,
   "id": "bfbe4e04",
   "metadata": {},
   "outputs": [
    {
     "data": {
      "text/plain": [
       "<AxesSubplot:xlabel='Doctor'>"
      ]
     },
     "execution_count": 24,
     "metadata": {},
     "output_type": "execute_result"
    },
    {
     "data": {
      "image/png": "[encoded data removed]",
      "text/plain": [
       "<Figure size 640x480 with 1 Axes>"
      ]
     },
     "metadata": {},
     "output_type": "display_data"
    }
   ],
   "source": [
    "df.groupby(['Doctor'])['Patient ID'].count().nlargest(n=10).plot(kind='bar')"
   ]
  },
  {
   "cell_type": "markdown",
   "id": "27acc692",
   "metadata": {},
   "source": [
    "# Financial class and total revenue"
   ]
  },
  {
   "cell_type": "code",
   "execution_count": 26,
   "id": "90113360",
   "metadata": {},
   "outputs": [
    {
     "data": {
      "text/plain": [
       "<AxesSubplot:ylabel='Total Revenue'>"
      ]
     },
     "execution_count": 26,
     "metadata": {},
     "output_type": "execute_result"
    },
    {
     "data": {
      "image/png": "[encoded data removed]",
      "text/plain": [
       "<Figure size 640x480 with 1 Axes>"
      ]
     },
     "metadata": {},
     "output_type": "display_data"
    }
   ],
   "source": [
    "df.groupby(['Financial Class'])['Total Revenue'].sum().plot(kind='pie')"
   ]
  },
  {
   "cell_type": "code",
   "execution_count": 32,
   "id": "2207f4af",
   "metadata": {},
   "outputs": [
    {
     "data": {
      "text/plain": [
       "<AxesSubplot:ylabel='Patient ID'>"
      ]
     },
     "execution_count": 32,
     "metadata": {},
     "output_type": "execute_result"
    },
    {
     "data": {
      "image/png": "[encoded data removed]",
      "text/plain": [
       "<Figure size 640x480 with 1 Axes>"
      ]
     },
     "metadata": {},
     "output_type": "display_data"
    }
   ],
   "source": [
    "df.groupby(['Doctor Type'])['Patient ID'].count().plot(kind='pie')"
   ]
  },
  {
   "cell_type": "markdown",
   "id": "79dab6a1",
   "metadata": {},
   "source": [
    "nearly 75% from visits are for ANCHOR doctors ."
   ]
  },
  {
   "cell_type": "code",
   "execution_count": 33,
   "id": "b987fa6e",
   "metadata": {
    "scrolled": false
   },
   "outputs": [
    {
     "data": {
      "text/plain": [
       "Date\n",
       "2019-11-11    3618\n",
       "2019-11-04    3365\n",
       "2019-11-12    2892\n",
       "2019-11-06    2813\n",
       "2019-11-05    2798\n",
       "2019-11-07    2673\n",
       "2019-11-01    2518\n",
       "2019-11-08    2405\n",
       "2019-11-09    1539\n",
       "2019-11-02    1471\n",
       "2019-11-13    1358\n",
       "2019-11-03    1301\n",
       "2019-11-10    1248\n",
       "Name: Patient ID, dtype: int64"
      ]
     },
     "execution_count": 33,
     "metadata": {},
     "output_type": "execute_result"
    }
   ],
   "source": [
    "df.groupby(['Date'])['Patient ID'].count().sort_values(ascending=False)"
   ]
  },
  {
   "cell_type": "code",
   "execution_count": 34,
   "id": "fb4d4b47",
   "metadata": {},
   "outputs": [
    {
     "data": {
      "text/plain": [
       "<AxesSubplot:xlabel='Date'>"
      ]
     },
     "execution_count": 34,
     "metadata": {},
     "output_type": "execute_result"
    },
    {
     "data": {
      "image/png": "[encoded data removed]",
      "text/plain": [
       "<Figure size 640x480 with 1 Axes>"
      ]
     },
     "metadata": {},
     "output_type": "display_data"
    }
   ],
   "source": [
    "df.groupby(['Date'])['Patient ID'].count().plot(kind='bar')"
   ]
  }
 ],
 "metadata": {
  "kernelspec": {
   "display_name": "Python 3 (ipykernel)",
   "language": "python",
   "name": "python3"
  },
  "language_info": {
   "codemirror_mode": {
    "name": "ipython",
    "version": 3
   },
   "file_extension": ".py",
   "mimetype": "text/x-python",
   "name": "python",
   "nbconvert_exporter": "python",
   "pygments_lexer": "ipython3",
   "version": "3.9.13"
  }
 },
 "nbformat": 4,
 "nbformat_minor": 5
}
